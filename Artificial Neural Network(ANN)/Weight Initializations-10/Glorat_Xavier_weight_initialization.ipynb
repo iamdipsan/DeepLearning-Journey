{
  "nbformat": 4,
  "nbformat_minor": 0,
  "metadata": {
    "colab": {
      "provenance": []
    },
    "kernelspec": {
      "name": "python3",
      "display_name": "Python 3"
    },
    "language_info": {
      "name": "python"
    }
  },
  "cells": [
    {
      "cell_type": "markdown",
      "source": [],
      "metadata": {
        "id": "LxHuKBbChYBM"
      }
    },
    {
      "cell_type": "markdown",
      "source": [
        "for this case, we will use tanh as the activation and see if anything changes"
      ],
      "metadata": {
        "id": "kP73zAXfhamR"
      }
    },
    {
      "cell_type": "code",
      "execution_count": 1,
      "metadata": {
        "id": "HIRSNnEHc2rE"
      },
      "outputs": [],
      "source": [
        "import numpy as np\n",
        "import pandas as pd\n",
        "import matplotlib.pyplot as plt"
      ]
    },
    {
      "cell_type": "code",
      "source": [
        "from sklearn.datasets import make_moons\n",
        "import pandas as pd\n",
        "\n",
        "X, y = make_moons(n_samples=200, noise=0.1)\n",
        "df = pd.DataFrame({\n",
        "    'X': X[:, 0],\n",
        "    'Y': X[:, 1],\n",
        "    'class': y.astype(float)\n",
        "})\n",
        "df.to_csv('ushape.csv', index=False)\n"
      ],
      "metadata": {
        "id": "5iP-0waGdIJl"
      },
      "execution_count": 2,
      "outputs": []
    },
    {
      "cell_type": "code",
      "source": [
        "df.head()"
      ],
      "metadata": {
        "colab": {
          "base_uri": "https://localhost:8080/",
          "height": 206
        },
        "id": "oppz_miTeAx3",
        "outputId": "342391c3-3085-46e0-d53c-c451dcb25abb"
      },
      "execution_count": 3,
      "outputs": [
        {
          "output_type": "execute_result",
          "data": {
            "text/plain": [
              "          X         Y  class\n",
              "0  0.285651 -0.142390    1.0\n",
              "1  0.936909 -0.080901    0.0\n",
              "2  0.125753  0.181614    1.0\n",
              "3  1.002670  0.273149    0.0\n",
              "4  0.452070  1.060507    0.0"
            ],
            "text/html": [
              "\n",
              "  <div id=\"df-59cb639b-8661-401e-b2b8-e22fa602ead5\" class=\"colab-df-container\">\n",
              "    <div>\n",
              "<style scoped>\n",
              "    .dataframe tbody tr th:only-of-type {\n",
              "        vertical-align: middle;\n",
              "    }\n",
              "\n",
              "    .dataframe tbody tr th {\n",
              "        vertical-align: top;\n",
              "    }\n",
              "\n",
              "    .dataframe thead th {\n",
              "        text-align: right;\n",
              "    }\n",
              "</style>\n",
              "<table border=\"1\" class=\"dataframe\">\n",
              "  <thead>\n",
              "    <tr style=\"text-align: right;\">\n",
              "      <th></th>\n",
              "      <th>X</th>\n",
              "      <th>Y</th>\n",
              "      <th>class</th>\n",
              "    </tr>\n",
              "  </thead>\n",
              "  <tbody>\n",
              "    <tr>\n",
              "      <th>0</th>\n",
              "      <td>0.285651</td>\n",
              "      <td>-0.142390</td>\n",
              "      <td>1.0</td>\n",
              "    </tr>\n",
              "    <tr>\n",
              "      <th>1</th>\n",
              "      <td>0.936909</td>\n",
              "      <td>-0.080901</td>\n",
              "      <td>0.0</td>\n",
              "    </tr>\n",
              "    <tr>\n",
              "      <th>2</th>\n",
              "      <td>0.125753</td>\n",
              "      <td>0.181614</td>\n",
              "      <td>1.0</td>\n",
              "    </tr>\n",
              "    <tr>\n",
              "      <th>3</th>\n",
              "      <td>1.002670</td>\n",
              "      <td>0.273149</td>\n",
              "      <td>0.0</td>\n",
              "    </tr>\n",
              "    <tr>\n",
              "      <th>4</th>\n",
              "      <td>0.452070</td>\n",
              "      <td>1.060507</td>\n",
              "      <td>0.0</td>\n",
              "    </tr>\n",
              "  </tbody>\n",
              "</table>\n",
              "</div>\n",
              "    <div class=\"colab-df-buttons\">\n",
              "\n",
              "  <div class=\"colab-df-container\">\n",
              "    <button class=\"colab-df-convert\" onclick=\"convertToInteractive('df-59cb639b-8661-401e-b2b8-e22fa602ead5')\"\n",
              "            title=\"Convert this dataframe to an interactive table.\"\n",
              "            style=\"display:none;\">\n",
              "\n",
              "  <svg xmlns=\"http://www.w3.org/2000/svg\" height=\"24px\" viewBox=\"0 -960 960 960\">\n",
              "    <path d=\"M120-120v-720h720v720H120Zm60-500h600v-160H180v160Zm220 220h160v-160H400v160Zm0 220h160v-160H400v160ZM180-400h160v-160H180v160Zm440 0h160v-160H620v160ZM180-180h160v-160H180v160Zm440 0h160v-160H620v160Z\"/>\n",
              "  </svg>\n",
              "    </button>\n",
              "\n",
              "  <style>\n",
              "    .colab-df-container {\n",
              "      display:flex;\n",
              "      gap: 12px;\n",
              "    }\n",
              "\n",
              "    .colab-df-convert {\n",
              "      background-color: #E8F0FE;\n",
              "      border: none;\n",
              "      border-radius: 50%;\n",
              "      cursor: pointer;\n",
              "      display: none;\n",
              "      fill: #1967D2;\n",
              "      height: 32px;\n",
              "      padding: 0 0 0 0;\n",
              "      width: 32px;\n",
              "    }\n",
              "\n",
              "    .colab-df-convert:hover {\n",
              "      background-color: #E2EBFA;\n",
              "      box-shadow: 0px 1px 2px rgba(60, 64, 67, 0.3), 0px 1px 3px 1px rgba(60, 64, 67, 0.15);\n",
              "      fill: #174EA6;\n",
              "    }\n",
              "\n",
              "    .colab-df-buttons div {\n",
              "      margin-bottom: 4px;\n",
              "    }\n",
              "\n",
              "    [theme=dark] .colab-df-convert {\n",
              "      background-color: #3B4455;\n",
              "      fill: #D2E3FC;\n",
              "    }\n",
              "\n",
              "    [theme=dark] .colab-df-convert:hover {\n",
              "      background-color: #434B5C;\n",
              "      box-shadow: 0px 1px 3px 1px rgba(0, 0, 0, 0.15);\n",
              "      filter: drop-shadow(0px 1px 2px rgba(0, 0, 0, 0.3));\n",
              "      fill: #FFFFFF;\n",
              "    }\n",
              "  </style>\n",
              "\n",
              "    <script>\n",
              "      const buttonEl =\n",
              "        document.querySelector('#df-59cb639b-8661-401e-b2b8-e22fa602ead5 button.colab-df-convert');\n",
              "      buttonEl.style.display =\n",
              "        google.colab.kernel.accessAllowed ? 'block' : 'none';\n",
              "\n",
              "      async function convertToInteractive(key) {\n",
              "        const element = document.querySelector('#df-59cb639b-8661-401e-b2b8-e22fa602ead5');\n",
              "        const dataTable =\n",
              "          await google.colab.kernel.invokeFunction('convertToInteractive',\n",
              "                                                    [key], {});\n",
              "        if (!dataTable) return;\n",
              "\n",
              "        const docLinkHtml = 'Like what you see? Visit the ' +\n",
              "          '<a target=\"_blank\" href=https://colab.research.google.com/notebooks/data_table.ipynb>data table notebook</a>'\n",
              "          + ' to learn more about interactive tables.';\n",
              "        element.innerHTML = '';\n",
              "        dataTable['output_type'] = 'display_data';\n",
              "        await google.colab.output.renderOutput(dataTable, element);\n",
              "        const docLink = document.createElement('div');\n",
              "        docLink.innerHTML = docLinkHtml;\n",
              "        element.appendChild(docLink);\n",
              "      }\n",
              "    </script>\n",
              "  </div>\n",
              "\n",
              "\n",
              "    <div id=\"df-908ba0f6-928a-4460-b277-a4eef478ad06\">\n",
              "      <button class=\"colab-df-quickchart\" onclick=\"quickchart('df-908ba0f6-928a-4460-b277-a4eef478ad06')\"\n",
              "                title=\"Suggest charts\"\n",
              "                style=\"display:none;\">\n",
              "\n",
              "<svg xmlns=\"http://www.w3.org/2000/svg\" height=\"24px\"viewBox=\"0 0 24 24\"\n",
              "     width=\"24px\">\n",
              "    <g>\n",
              "        <path d=\"M19 3H5c-1.1 0-2 .9-2 2v14c0 1.1.9 2 2 2h14c1.1 0 2-.9 2-2V5c0-1.1-.9-2-2-2zM9 17H7v-7h2v7zm4 0h-2V7h2v10zm4 0h-2v-4h2v4z\"/>\n",
              "    </g>\n",
              "</svg>\n",
              "      </button>\n",
              "\n",
              "<style>\n",
              "  .colab-df-quickchart {\n",
              "      --bg-color: #E8F0FE;\n",
              "      --fill-color: #1967D2;\n",
              "      --hover-bg-color: #E2EBFA;\n",
              "      --hover-fill-color: #174EA6;\n",
              "      --disabled-fill-color: #AAA;\n",
              "      --disabled-bg-color: #DDD;\n",
              "  }\n",
              "\n",
              "  [theme=dark] .colab-df-quickchart {\n",
              "      --bg-color: #3B4455;\n",
              "      --fill-color: #D2E3FC;\n",
              "      --hover-bg-color: #434B5C;\n",
              "      --hover-fill-color: #FFFFFF;\n",
              "      --disabled-bg-color: #3B4455;\n",
              "      --disabled-fill-color: #666;\n",
              "  }\n",
              "\n",
              "  .colab-df-quickchart {\n",
              "    background-color: var(--bg-color);\n",
              "    border: none;\n",
              "    border-radius: 50%;\n",
              "    cursor: pointer;\n",
              "    display: none;\n",
              "    fill: var(--fill-color);\n",
              "    height: 32px;\n",
              "    padding: 0;\n",
              "    width: 32px;\n",
              "  }\n",
              "\n",
              "  .colab-df-quickchart:hover {\n",
              "    background-color: var(--hover-bg-color);\n",
              "    box-shadow: 0 1px 2px rgba(60, 64, 67, 0.3), 0 1px 3px 1px rgba(60, 64, 67, 0.15);\n",
              "    fill: var(--button-hover-fill-color);\n",
              "  }\n",
              "\n",
              "  .colab-df-quickchart-complete:disabled,\n",
              "  .colab-df-quickchart-complete:disabled:hover {\n",
              "    background-color: var(--disabled-bg-color);\n",
              "    fill: var(--disabled-fill-color);\n",
              "    box-shadow: none;\n",
              "  }\n",
              "\n",
              "  .colab-df-spinner {\n",
              "    border: 2px solid var(--fill-color);\n",
              "    border-color: transparent;\n",
              "    border-bottom-color: var(--fill-color);\n",
              "    animation:\n",
              "      spin 1s steps(1) infinite;\n",
              "  }\n",
              "\n",
              "  @keyframes spin {\n",
              "    0% {\n",
              "      border-color: transparent;\n",
              "      border-bottom-color: var(--fill-color);\n",
              "      border-left-color: var(--fill-color);\n",
              "    }\n",
              "    20% {\n",
              "      border-color: transparent;\n",
              "      border-left-color: var(--fill-color);\n",
              "      border-top-color: var(--fill-color);\n",
              "    }\n",
              "    30% {\n",
              "      border-color: transparent;\n",
              "      border-left-color: var(--fill-color);\n",
              "      border-top-color: var(--fill-color);\n",
              "      border-right-color: var(--fill-color);\n",
              "    }\n",
              "    40% {\n",
              "      border-color: transparent;\n",
              "      border-right-color: var(--fill-color);\n",
              "      border-top-color: var(--fill-color);\n",
              "    }\n",
              "    60% {\n",
              "      border-color: transparent;\n",
              "      border-right-color: var(--fill-color);\n",
              "    }\n",
              "    80% {\n",
              "      border-color: transparent;\n",
              "      border-right-color: var(--fill-color);\n",
              "      border-bottom-color: var(--fill-color);\n",
              "    }\n",
              "    90% {\n",
              "      border-color: transparent;\n",
              "      border-bottom-color: var(--fill-color);\n",
              "    }\n",
              "  }\n",
              "</style>\n",
              "\n",
              "      <script>\n",
              "        async function quickchart(key) {\n",
              "          const quickchartButtonEl =\n",
              "            document.querySelector('#' + key + ' button');\n",
              "          quickchartButtonEl.disabled = true;  // To prevent multiple clicks.\n",
              "          quickchartButtonEl.classList.add('colab-df-spinner');\n",
              "          try {\n",
              "            const charts = await google.colab.kernel.invokeFunction(\n",
              "                'suggestCharts', [key], {});\n",
              "          } catch (error) {\n",
              "            console.error('Error during call to suggestCharts:', error);\n",
              "          }\n",
              "          quickchartButtonEl.classList.remove('colab-df-spinner');\n",
              "          quickchartButtonEl.classList.add('colab-df-quickchart-complete');\n",
              "        }\n",
              "        (() => {\n",
              "          let quickchartButtonEl =\n",
              "            document.querySelector('#df-908ba0f6-928a-4460-b277-a4eef478ad06 button');\n",
              "          quickchartButtonEl.style.display =\n",
              "            google.colab.kernel.accessAllowed ? 'block' : 'none';\n",
              "        })();\n",
              "      </script>\n",
              "    </div>\n",
              "\n",
              "    </div>\n",
              "  </div>\n"
            ],
            "application/vnd.google.colaboratory.intrinsic+json": {
              "type": "dataframe",
              "variable_name": "df",
              "summary": "{\n  \"name\": \"df\",\n  \"rows\": 200,\n  \"fields\": [\n    {\n      \"column\": \"X\",\n      \"properties\": {\n        \"dtype\": \"number\",\n        \"std\": 0.8809699509287087,\n        \"min\": -1.121422483585826,\n        \"max\": 2.148574422485239,\n        \"num_unique_values\": 200,\n        \"samples\": [\n          1.133833966502339,\n          1.8795168327032667,\n          0.9211547733221737\n        ],\n        \"semantic_type\": \"\",\n        \"description\": \"\"\n      }\n    },\n    {\n      \"column\": \"Y\",\n      \"properties\": {\n        \"dtype\": \"number\",\n        \"std\": 0.5013908477019187,\n        \"min\": -0.6958444164873521,\n        \"max\": 1.2255635058365455,\n        \"num_unique_values\": 200,\n        \"samples\": [\n          -0.6389730189695907,\n          0.5965290607805378,\n          0.48769945143993376\n        ],\n        \"semantic_type\": \"\",\n        \"description\": \"\"\n      }\n    },\n    {\n      \"column\": \"class\",\n      \"properties\": {\n        \"dtype\": \"number\",\n        \"std\": 0.5012547071170855,\n        \"min\": 0.0,\n        \"max\": 1.0,\n        \"num_unique_values\": 2,\n        \"samples\": [\n          0.0,\n          1.0\n        ],\n        \"semantic_type\": \"\",\n        \"description\": \"\"\n      }\n    }\n  ]\n}"
            }
          },
          "metadata": {},
          "execution_count": 3
        }
      ]
    },
    {
      "cell_type": "code",
      "source": [
        "plt.scatter(df['X'],df['Y'],c=df['class'])"
      ],
      "metadata": {
        "colab": {
          "base_uri": "https://localhost:8080/",
          "height": 447
        },
        "id": "DW5iMC4feCTV",
        "outputId": "fd9330fc-a9ff-4922-f808-0580096befa5"
      },
      "execution_count": 4,
      "outputs": [
        {
          "output_type": "execute_result",
          "data": {
            "text/plain": [
              "<matplotlib.collections.PathCollection at 0x78ecf8b1a870>"
            ]
          },
          "metadata": {},
          "execution_count": 4
        },
        {
          "output_type": "display_data",
          "data": {
            "text/plain": [
              "<Figure size 640x480 with 1 Axes>"
            ],
            "image/png": "[encoded data removed]"
          },
          "metadata": {}
        }
      ]
    },
    {
      "cell_type": "code",
      "source": [
        "X=df.iloc[:,0:2].values\n",
        "y=df.iloc[:,-1].values"
      ],
      "metadata": {
        "id": "Ow7BUwVKeDt0"
      },
      "execution_count": 5,
      "outputs": []
    },
    {
      "cell_type": "code",
      "source": [
        "import tensorflow\n",
        "from tensorflow import keras\n",
        "from keras import Sequential\n",
        "from keras.layers import Dense"
      ],
      "metadata": {
        "id": "rMEseAfHecTX"
      },
      "execution_count": 6,
      "outputs": []
    },
    {
      "cell_type": "code",
      "source": [
        "#for glorat weight initialization using tanh for hidden layer\n",
        "model= Sequential()\n",
        "model.add(Dense(10,activation='tanh',input_dim=2)) #hidden laye 1 and input layer\n",
        "model.add(Dense(10,activation='tanh'))\n",
        "model.add(Dense(10,activation='tanh'))\n",
        "model.add(Dense(10,activation='tanh'))\n",
        "model.add(Dense(1,activation='sigmoid')) #output sigmoid->binary classification"
      ],
      "metadata": {
        "colab": {
          "base_uri": "https://localhost:8080/"
        },
        "id": "oWLHt0gKeeB8",
        "outputId": "5011b9c1-8a31-4f96-ffe0-95df8851ad7f"
      },
      "execution_count": 7,
      "outputs": [
        {
          "output_type": "stream",
          "name": "stderr",
          "text": [
            "/usr/local/lib/python3.12/dist-packages/keras/src/layers/core/dense.py:93: UserWarning: Do not pass an `input_shape`/`input_dim` argument to a layer. When using Sequential models, prefer using an `Input(shape)` object as the first layer in the model instead.\n",
            "  super().__init__(activity_regularizer=activity_regularizer, **kwargs)\n"
          ]
        }
      ]
    },
    {
      "cell_type": "code",
      "source": [
        "model.summary()"
      ],
      "metadata": {
        "colab": {
          "base_uri": "https://localhost:8080/",
          "height": 289
        },
        "id": "qmUbW3T0e0Kq",
        "outputId": "16d67b7d-b689-438c-d485-c6762ec64bc5"
      },
      "execution_count": 8,
      "outputs": [
        {
          "output_type": "display_data",
          "data": {
            "text/plain": [
              "\u001b[1mModel: \"sequential\"\u001b[0m\n"
            ],
            "text/html": [
              "<pre style=\"white-space:pre;overflow-x:auto;line-height:normal;font-family:Menlo,'DejaVu Sans Mono',consolas,'Courier New',monospace\"><span style=\"font-weight: bold\">Model: \"sequential\"</span>\n",
              "</pre>\n"
            ]
          },
          "metadata": {}
        },
        {
          "output_type": "display_data",
          "data": {
            "text/plain": [
              "┏━━━━━━━━━━━━━━━━━━━━━━━━━━━━━━━━━┳━━━━━━━━━━━━━━━━━━━━━━━━┳━━━━━━━━━━━━━━━┓\n",
              "┃\u001b[1m \u001b[0m\u001b[1mLayer (type)                   \u001b[0m\u001b[1m \u001b[0m┃\u001b[1m \u001b[0m\u001b[1mOutput Shape          \u001b[0m\u001b[1m \u001b[0m┃\u001b[1m \u001b[0m\u001b[1m      Param #\u001b[0m\u001b[1m \u001b[0m┃\n",
              "┡━━━━━━━━━━━━━━━━━━━━━━━━━━━━━━━━━╇━━━━━━━━━━━━━━━━━━━━━━━━╇━━━━━━━━━━━━━━━┩\n",
              "│ dense (\u001b[38;5;33mDense\u001b[0m)                   │ (\u001b[38;5;45mNone\u001b[0m, \u001b[38;5;34m10\u001b[0m)             │            \u001b[38;5;34m30\u001b[0m │\n",
              "├─────────────────────────────────┼────────────────────────┼───────────────┤\n",
              "│ dense_1 (\u001b[38;5;33mDense\u001b[0m)                 │ (\u001b[38;5;45mNone\u001b[0m, \u001b[38;5;34m10\u001b[0m)             │           \u001b[38;5;34m110\u001b[0m │\n",
              "├─────────────────────────────────┼────────────────────────┼───────────────┤\n",
              "│ dense_2 (\u001b[38;5;33mDense\u001b[0m)                 │ (\u001b[38;5;45mNone\u001b[0m, \u001b[38;5;34m10\u001b[0m)             │           \u001b[38;5;34m110\u001b[0m │\n",
              "├─────────────────────────────────┼────────────────────────┼───────────────┤\n",
              "│ dense_3 (\u001b[38;5;33mDense\u001b[0m)                 │ (\u001b[38;5;45mNone\u001b[0m, \u001b[38;5;34m10\u001b[0m)             │           \u001b[38;5;34m110\u001b[0m │\n",
              "├─────────────────────────────────┼────────────────────────┼───────────────┤\n",
              "│ dense_4 (\u001b[38;5;33mDense\u001b[0m)                 │ (\u001b[38;5;45mNone\u001b[0m, \u001b[38;5;34m1\u001b[0m)              │            \u001b[38;5;34m11\u001b[0m │\n",
              "└─────────────────────────────────┴────────────────────────┴───────────────┘\n"
            ],
            "text/html": [
              "<pre style=\"white-space:pre;overflow-x:auto;line-height:normal;font-family:Menlo,'DejaVu Sans Mono',consolas,'Courier New',monospace\">┏━━━━━━━━━━━━━━━━━━━━━━━━━━━━━━━━━┳━━━━━━━━━━━━━━━━━━━━━━━━┳━━━━━━━━━━━━━━━┓\n",
              "┃<span style=\"font-weight: bold\"> Layer (type)                    </span>┃<span style=\"font-weight: bold\"> Output Shape           </span>┃<span style=\"font-weight: bold\">       Param # </span>┃\n",
              "┡━━━━━━━━━━━━━━━━━━━━━━━━━━━━━━━━━╇━━━━━━━━━━━━━━━━━━━━━━━━╇━━━━━━━━━━━━━━━┩\n",
              "│ dense (<span style=\"color: #0087ff; text-decoration-color: #0087ff\">Dense</span>)                   │ (<span style=\"color: #00d7ff; text-decoration-color: #00d7ff\">None</span>, <span style=\"color: #00af00; text-decoration-color: #00af00\">10</span>)             │            <span style=\"color: #00af00; text-decoration-color: #00af00\">30</span> │\n",
              "├─────────────────────────────────┼────────────────────────┼───────────────┤\n",
              "│ dense_1 (<span style=\"color: #0087ff; text-decoration-color: #0087ff\">Dense</span>)                 │ (<span style=\"color: #00d7ff; text-decoration-color: #00d7ff\">None</span>, <span style=\"color: #00af00; text-decoration-color: #00af00\">10</span>)             │           <span style=\"color: #00af00; text-decoration-color: #00af00\">110</span> │\n",
              "├─────────────────────────────────┼────────────────────────┼───────────────┤\n",
              "│ dense_2 (<span style=\"color: #0087ff; text-decoration-color: #0087ff\">Dense</span>)                 │ (<span style=\"color: #00d7ff; text-decoration-color: #00d7ff\">None</span>, <span style=\"color: #00af00; text-decoration-color: #00af00\">10</span>)             │           <span style=\"color: #00af00; text-decoration-color: #00af00\">110</span> │\n",
              "├─────────────────────────────────┼────────────────────────┼───────────────┤\n",
              "│ dense_3 (<span style=\"color: #0087ff; text-decoration-color: #0087ff\">Dense</span>)                 │ (<span style=\"color: #00d7ff; text-decoration-color: #00d7ff\">None</span>, <span style=\"color: #00af00; text-decoration-color: #00af00\">10</span>)             │           <span style=\"color: #00af00; text-decoration-color: #00af00\">110</span> │\n",
              "├─────────────────────────────────┼────────────────────────┼───────────────┤\n",
              "│ dense_4 (<span style=\"color: #0087ff; text-decoration-color: #0087ff\">Dense</span>)                 │ (<span style=\"color: #00d7ff; text-decoration-color: #00d7ff\">None</span>, <span style=\"color: #00af00; text-decoration-color: #00af00\">1</span>)              │            <span style=\"color: #00af00; text-decoration-color: #00af00\">11</span> │\n",
              "└─────────────────────────────────┴────────────────────────┴───────────────┘\n",
              "</pre>\n"
            ]
          },
          "metadata": {}
        },
        {
          "output_type": "display_data",
          "data": {
            "text/plain": [
              "\u001b[1m Total params: \u001b[0m\u001b[38;5;34m371\u001b[0m (1.45 KB)\n"
            ],
            "text/html": [
              "<pre style=\"white-space:pre;overflow-x:auto;line-height:normal;font-family:Menlo,'DejaVu Sans Mono',consolas,'Courier New',monospace\"><span style=\"font-weight: bold\"> Total params: </span><span style=\"color: #00af00; text-decoration-color: #00af00\">371</span> (1.45 KB)\n",
              "</pre>\n"
            ]
          },
          "metadata": {}
        },
        {
          "output_type": "display_data",
          "data": {
            "text/plain": [
              "\u001b[1m Trainable params: \u001b[0m\u001b[38;5;34m371\u001b[0m (1.45 KB)\n"
            ],
            "text/html": [
              "<pre style=\"white-space:pre;overflow-x:auto;line-height:normal;font-family:Menlo,'DejaVu Sans Mono',consolas,'Courier New',monospace\"><span style=\"font-weight: bold\"> Trainable params: </span><span style=\"color: #00af00; text-decoration-color: #00af00\">371</span> (1.45 KB)\n",
              "</pre>\n"
            ]
          },
          "metadata": {}
        },
        {
          "output_type": "display_data",
          "data": {
            "text/plain": [
              "\u001b[1m Non-trainable params: \u001b[0m\u001b[38;5;34m0\u001b[0m (0.00 B)\n"
            ],
            "text/html": [
              "<pre style=\"white-space:pre;overflow-x:auto;line-height:normal;font-family:Menlo,'DejaVu Sans Mono',consolas,'Courier New',monospace\"><span style=\"font-weight: bold\"> Non-trainable params: </span><span style=\"color: #00af00; text-decoration-color: #00af00\">0</span> (0.00 B)\n",
              "</pre>\n"
            ]
          },
          "metadata": {}
        }
      ]
    },
    {
      "cell_type": "code",
      "source": [
        "model.get_weights()\n",
        "#these are the inital weights"
      ],
      "metadata": {
        "colab": {
          "base_uri": "https://localhost:8080/"
        },
        "id": "kAqYY3Yqe11d",
        "outputId": "a3de8dbc-d962-4377-e7b4-06e41f9e928b"
      },
      "execution_count": 9,
      "outputs": [
        {
          "output_type": "execute_result",
          "data": {
            "text/plain": [
              "[array([[-0.2761797 ,  0.0375945 , -0.21879408, -0.16915417,  0.15085185,\n",
              "          0.46389633,  0.20459867,  0.65078825, -0.40003613,  0.4128812 ],\n",
              "        [ 0.22746116,  0.04608554,  0.51720387, -0.3791323 , -0.25483197,\n",
              "          0.64798576, -0.4037936 ,  0.6380879 , -0.21888545, -0.46758437]],\n",
              "       dtype=float32),\n",
              " array([0., 0., 0., 0., 0., 0., 0., 0., 0., 0.], dtype=float32),\n",
              " array([[-0.4138597 ,  0.34926134, -0.28868452,  0.17222303, -0.33893722,\n",
              "         -0.19958001,  0.47338307, -0.20488575,  0.22659391,  0.40860736],\n",
              "        [ 0.01465124,  0.15200853,  0.09541279, -0.24418104, -0.21429849,\n",
              "          0.4583727 , -0.47530687, -0.43881845, -0.333457  ,  0.1536023 ],\n",
              "        [ 0.5020144 , -0.31219137,  0.50213385, -0.12234482,  0.4455592 ,\n",
              "          0.05203247,  0.13257188, -0.0549041 , -0.11188465, -0.3273434 ],\n",
              "        [-0.00778049,  0.34897363, -0.38036108,  0.19597238,  0.04744506,\n",
              "          0.18660134, -0.44201913, -0.27538133,  0.0707233 ,  0.4181794 ],\n",
              "        [-0.21249339,  0.5359529 , -0.14014152,  0.46260285, -0.29680142,\n",
              "         -0.32102746,  0.3911119 ,  0.30884993,  0.16415   ,  0.11045998],\n",
              "        [-0.10835096, -0.21382982, -0.3292004 ,  0.46453667, -0.02742398,\n",
              "          0.06847578, -0.1901285 ,  0.24886298, -0.29408246,  0.21227854],\n",
              "        [ 0.5203768 ,  0.15546894, -0.23092473, -0.03217053,  0.20993704,\n",
              "          0.4505363 , -0.21321943,  0.08904248, -0.07048342,  0.4090039 ],\n",
              "        [ 0.46703303, -0.10631394, -0.5414706 , -0.09923023,  0.32176214,\n",
              "         -0.41574144, -0.48922876,  0.054052  , -0.2516966 , -0.34699798],\n",
              "        [ 0.27345514, -0.0528971 ,  0.2683432 , -0.47185114,  0.0316934 ,\n",
              "         -0.02700102, -0.01163977, -0.41285223, -0.04979384,  0.16165459],\n",
              "        [ 0.30504018,  0.36700314, -0.25267428,  0.0972051 ,  0.43701422,\n",
              "          0.48405933, -0.3918864 , -0.34097922,  0.17087966,  0.02607292]],\n",
              "       dtype=float32),\n",
              " array([0., 0., 0., 0., 0., 0., 0., 0., 0., 0.], dtype=float32),\n",
              " array([[-0.07061571,  0.07845396, -0.06900072, -0.48000488,  0.2797013 ,\n",
              "          0.3495797 , -0.06358215, -0.16510707, -0.27624476,  0.31194133],\n",
              "        [ 0.5298996 ,  0.21682733, -0.26215324, -0.32663083,  0.35567653,\n",
              "         -0.04433721,  0.20444322, -0.3934284 , -0.11125642,  0.1282317 ],\n",
              "        [-0.09103981, -0.41726905, -0.2808563 ,  0.29561347,  0.34767628,\n",
              "         -0.05563486, -0.41068667,  0.40415287,  0.26307362, -0.16381398],\n",
              "        [ 0.47475696,  0.11381525,  0.03403062,  0.536646  ,  0.3224268 ,\n",
              "         -0.4152106 , -0.4842952 ,  0.24443686,  0.08305764,  0.07127136],\n",
              "        [ 0.09871167, -0.4088915 , -0.03150129,  0.19737697,  0.24392599,\n",
              "          0.4767394 ,  0.08940655,  0.45648122, -0.26793668,  0.08343065],\n",
              "        [ 0.17801821,  0.25429243,  0.08638662,  0.32272363, -0.45544064,\n",
              "         -0.01959759, -0.0839138 ,  0.01197684, -0.36905992, -0.24982959],\n",
              "        [ 0.46726394, -0.50061715, -0.40227228,  0.47702086,  0.05715698,\n",
              "          0.47498846,  0.073439  , -0.06942591, -0.0368349 , -0.29877448],\n",
              "        [-0.07313147, -0.06412527,  0.36234343, -0.31706518, -0.3551892 ,\n",
              "         -0.00637734, -0.33252734, -0.01043248, -0.53674567, -0.10996765],\n",
              "        [-0.19308656,  0.5019208 , -0.12922272, -0.09677103,  0.23779011,\n",
              "          0.30366182,  0.2751209 ,  0.26190418,  0.3749562 ,  0.48021066],\n",
              "        [-0.02112132, -0.20256326,  0.46774995, -0.32945722,  0.00472909,\n",
              "          0.08793795, -0.49370348, -0.25679627, -0.05662629,  0.4686085 ]],\n",
              "       dtype=float32),\n",
              " array([0., 0., 0., 0., 0., 0., 0., 0., 0., 0.], dtype=float32),\n",
              " array([[-0.22350529, -0.1478745 , -0.17184901, -0.28712124, -0.11597034,\n",
              "         -0.4635587 , -0.0822385 ,  0.1614151 , -0.45689106, -0.0566853 ],\n",
              "        [-0.2369371 ,  0.2933787 , -0.03414506,  0.3139112 , -0.14061177,\n",
              "         -0.42477313, -0.17040145, -0.4106035 , -0.14220077, -0.3122965 ],\n",
              "        [-0.4282009 ,  0.49308908,  0.08855915, -0.30605847, -0.23054445,\n",
              "         -0.25732267,  0.28330237,  0.32136333,  0.20340514,  0.19817358],\n",
              "        [ 0.34681714,  0.47006667,  0.14762902,  0.24424517, -0.05261752,\n",
              "          0.32200986, -0.47519964,  0.46172762,  0.11014354, -0.53103065],\n",
              "        [ 0.41656047, -0.18012288, -0.40933275,  0.21702683, -0.53924185,\n",
              "         -0.4141214 , -0.1330441 , -0.14309475,  0.25830066, -0.14793822],\n",
              "        [-0.3079234 ,  0.12634313,  0.34942532, -0.08273381,  0.07326639,\n",
              "          0.21327585,  0.46527946,  0.3037697 ,  0.48539138,  0.5297973 ],\n",
              "        [ 0.33117944,  0.1602546 ,  0.4781686 , -0.2162402 ,  0.14968783,\n",
              "          0.08228928,  0.5195668 , -0.10528231,  0.3071766 , -0.2690293 ],\n",
              "        [ 0.2990833 ,  0.50955355,  0.13863051,  0.48884845,  0.43101662,\n",
              "          0.0371424 ,  0.41684282, -0.01959342, -0.505676  , -0.13658041],\n",
              "        [-0.28213608,  0.4722135 ,  0.38910675, -0.37704074,  0.3547721 ,\n",
              "          0.45127308,  0.21690464, -0.451908  ,  0.03989583, -0.35464567],\n",
              "        [-0.08749947, -0.5007052 , -0.37321076,  0.5433723 ,  0.33506387,\n",
              "          0.33119273, -0.32036301, -0.08641949,  0.00315458,  0.4921782 ]],\n",
              "       dtype=float32),\n",
              " array([0., 0., 0., 0., 0., 0., 0., 0., 0., 0.], dtype=float32),\n",
              " array([[-0.5545546 ],\n",
              "        [ 0.56341   ],\n",
              "        [-0.6013196 ],\n",
              "        [-0.01761824],\n",
              "        [-0.10599786],\n",
              "        [ 0.25377214],\n",
              "        [ 0.36161345],\n",
              "        [ 0.03281885],\n",
              "        [-0.32102874],\n",
              "        [-0.04267108]], dtype=float32),\n",
              " array([0.], dtype=float32)]"
            ]
          },
          "metadata": {},
          "execution_count": 9
        }
      ]
    },
    {
      "cell_type": "code",
      "source": [
        "initial_weights= model.get_weights()"
      ],
      "metadata": {
        "id": "mqz-h9oHfAvy"
      },
      "execution_count": 10,
      "outputs": []
    },
    {
      "cell_type": "code",
      "source": [
        "initial_weights[0] = np.random.randn(2,10)*np.sqrt(1/2)\n",
        "initial_weights[1] = np.zeros(model.get_weights()[1].shape)#bias for first hidden layer\n",
        "initial_weights[2] = np.random.randn(10,10)*np.sqrt(1/10)\n",
        "initial_weights[3] = np.zeros(model.get_weights()[3].shape)\n",
        "initial_weights[4] = np.random.randn(10,10)*np.sqrt(1/10)\n",
        "initial_weights[5] = np.zeros(model.get_weights()[5].shape)\n",
        "initial_weights[6] = np.random.randn(10,10)*np.sqrt(1/10)\n",
        "initial_weights[7] = np.zeros(model.get_weights()[7].shape)\n",
        "initial_weights[8] = np.random.randn(10,1)*np.sqrt(1/10)\n",
        "initial_weights[9] = np.zeros(model.get_weights()[9].shape)"
      ],
      "metadata": {
        "id": "7zkMa4uufJQk"
      },
      "execution_count": 11,
      "outputs": []
    },
    {
      "cell_type": "code",
      "source": [
        "model.set_weights(initial_weights)"
      ],
      "metadata": {
        "id": "Ax4vKWUAfdde"
      },
      "execution_count": 12,
      "outputs": []
    },
    {
      "cell_type": "code",
      "source": [
        "print(initial_weights)"
      ],
      "metadata": {
        "colab": {
          "base_uri": "https://localhost:8080/"
        },
        "id": "yOoGzmQLfhpI",
        "outputId": "90b18e32-4581-48b8-d16c-73f965427f36"
      },
      "execution_count": 13,
      "outputs": [
        {
          "output_type": "stream",
          "name": "stdout",
          "text": [
            "[array([[-0.01353513, -0.14304099,  0.01546387,  0.99242038,  0.69127558,\n",
            "        -0.16635654, -0.36645709,  1.30944504, -0.55392603, -0.38216989],\n",
            "       [-0.15868929, -0.83317639, -0.18185945, -0.11734835,  0.55931467,\n",
            "         0.8271768 ,  0.56449763,  1.35663586, -1.22342495, -0.05365187]]), array([0., 0., 0., 0., 0., 0., 0., 0., 0., 0.]), array([[ 0.11433089, -0.51936826, -0.06126983,  0.19119193, -0.00127882,\n",
            "         0.37042973, -0.06218023, -0.32809722, -0.05448546,  0.05536235],\n",
            "       [-0.12571471,  0.30998721,  0.22343483, -0.09249138,  0.0587334 ,\n",
            "         0.10457934, -0.27867521, -0.79881222,  0.03777205,  0.25844315],\n",
            "       [-0.33567055,  0.07704782, -0.33518262,  0.25580678, -0.16656656,\n",
            "         0.15615768, -0.25302913, -0.35952168, -0.64513769,  0.12645928],\n",
            "       [ 0.25732728,  0.14256893,  0.44634373,  0.02436871,  0.3581909 ,\n",
            "        -0.12767548, -0.12856265, -0.24110619, -0.27722739, -0.49608592],\n",
            "       [ 0.16699195,  0.09276375,  0.10832404,  0.02352475, -0.17642836,\n",
            "         0.03921372,  0.0654655 , -0.1498647 ,  0.49729125,  0.38972455],\n",
            "       [ 0.56512206, -0.71755094,  0.06930797,  0.63811366, -0.35777477,\n",
            "         0.4357563 ,  0.35841955, -0.08109134,  0.67064448, -0.44806923],\n",
            "       [-0.33454412,  0.0032298 , -0.09024049,  0.06628523, -0.3154301 ,\n",
            "        -0.32531783,  0.05411154,  0.19715796,  0.53929183,  0.04567551],\n",
            "       [-0.54256393, -0.35495131, -0.16144482, -0.26437272,  0.09475602,\n",
            "        -0.11360808, -0.59502677,  0.33517302, -0.18012233,  0.28332399],\n",
            "       [-0.20306286,  0.13727809, -0.10494765,  0.16536774, -0.30314692,\n",
            "        -0.19936139,  0.13364908,  0.21928587,  0.00919123,  0.36540886],\n",
            "       [ 0.01404861, -0.04387296, -0.05681124, -0.03454242,  0.13151726,\n",
            "         0.00609637,  0.3579033 ,  0.005908  ,  0.36129046, -0.25536066]]), array([0., 0., 0., 0., 0., 0., 0., 0., 0., 0.]), array([[ 0.25103123,  0.05278206,  0.00536384, -0.39048378,  0.49024912,\n",
            "         0.34968025,  0.20910988,  0.08695394,  0.0324036 ,  0.02709399],\n",
            "       [-0.31793202, -0.04020435, -0.39148133,  0.16032736, -0.06875551,\n",
            "        -0.17365455,  0.0697662 , -0.08951484,  0.17647088,  0.38580621],\n",
            "       [-0.04300578,  0.60513943,  0.13746434,  0.29621026,  0.09590553,\n",
            "        -0.31768969, -0.32660238, -0.40739927,  0.30136999,  0.0799479 ],\n",
            "       [-0.00268344,  0.02373786,  0.06030821,  0.02344137, -0.17040565,\n",
            "         0.20955605, -0.1881243 , -0.03712565, -0.50354159, -0.28860306],\n",
            "       [-0.4485868 ,  0.12002808, -0.46872826, -0.07937025,  0.51900801,\n",
            "        -0.0623834 , -0.36089177, -0.46366162, -0.14643328,  0.48626633],\n",
            "       [-0.26042131,  0.0240448 , -0.30904475,  0.31602236, -0.30775632,\n",
            "        -0.09156184,  0.01094162,  0.10129399, -0.16538372, -0.14428745],\n",
            "       [ 0.04706146, -0.09420629, -0.24439426,  0.2208504 , -0.26401763,\n",
            "         0.11671329,  0.02148381,  0.39691922, -0.46601045,  0.09154331],\n",
            "       [ 0.03823529, -0.20157526,  0.04403397, -0.22974252,  0.05496726,\n",
            "         0.28738833, -0.02268657,  0.26320092,  0.59257327,  0.37200364],\n",
            "       [-0.03549862, -0.19528911,  0.12422231, -0.13802035, -0.27904689,\n",
            "        -0.21052636,  0.20162667, -0.42780186, -0.33855029, -0.29541205],\n",
            "       [-0.09225747,  0.29301163,  0.05559479,  0.57210444, -0.05546782,\n",
            "         0.38357482, -0.220902  ,  0.09610492, -0.73794639,  0.19840522]]), array([0., 0., 0., 0., 0., 0., 0., 0., 0., 0.]), array([[-0.2936832 , -0.05180204, -0.52287328,  0.17759994,  0.46206709,\n",
            "         0.01165627,  0.49726972,  0.23109501, -0.18055953,  0.37286606],\n",
            "       [-0.51205899,  0.06175837, -0.28470125, -0.57592585,  0.14881546,\n",
            "         0.19408383, -0.2197542 , -0.15445404,  0.33306494,  0.19546724],\n",
            "       [-0.11871531,  0.11697439, -0.19248264,  0.10978768, -0.2640748 ,\n",
            "        -0.03163585,  0.08179269, -0.22629641, -0.18877782,  0.08448791],\n",
            "       [-0.00627321, -0.27588008, -0.15765262, -0.34044749,  0.37632156,\n",
            "        -0.19165409,  0.15016547,  0.37885327,  0.12266106, -0.19127383],\n",
            "       [ 0.15355826,  0.10731259,  0.29384006,  0.02524009,  0.3827756 ,\n",
            "        -0.16180222,  0.17903821, -0.00928219, -1.10406446,  0.30373276],\n",
            "       [ 0.49817648,  0.88596884,  0.45217138, -0.08715973, -0.92155474,\n",
            "        -0.03034231, -0.01564258,  0.23786015,  0.09502198,  0.23480777],\n",
            "       [-0.49847593, -0.16894181, -0.00258423, -0.0466232 ,  0.34245893,\n",
            "        -0.57663653, -0.11224571, -0.05525425, -0.01938966, -0.24719508],\n",
            "       [-0.18965872, -0.49294806,  0.00362967, -0.25858225, -0.0349806 ,\n",
            "        -0.32661265, -0.28689387,  0.24312134, -0.14094896, -0.49480007],\n",
            "       [-0.39270373, -0.03673725, -0.17660912,  0.14134142, -0.2445637 ,\n",
            "         0.29312691,  0.5443324 ,  0.12541418, -0.35203918,  0.33665567],\n",
            "       [ 0.02692635,  0.10305584,  0.28079025, -0.366299  , -0.00469134,\n",
            "         0.46395234, -0.23636769,  0.1487786 ,  0.20490988,  0.39225917]]), array([0., 0., 0., 0., 0., 0., 0., 0., 0., 0.]), array([[-0.1610764 ],\n",
            "       [ 0.25737558],\n",
            "       [ 0.08926131],\n",
            "       [-0.62796524],\n",
            "       [-0.4683521 ],\n",
            "       [ 0.19136456],\n",
            "       [ 0.2322492 ],\n",
            "       [ 0.51990079],\n",
            "       [-0.00090721],\n",
            "       [ 0.75125982]]), array([0.])]\n"
          ]
        }
      ]
    },
    {
      "cell_type": "code",
      "source": [
        "model.compile(loss='binary_crossentropy',optimizer='adam',metrics=['accuracy'])"
      ],
      "metadata": {
        "id": "rHj9queXfjTr"
      },
      "execution_count": 14,
      "outputs": []
    },
    {
      "cell_type": "code",
      "source": [
        "history= model.fit(X,y,epochs=100,validation_steps=0.2)"
      ],
      "metadata": {
        "colab": {
          "base_uri": "https://localhost:8080/"
        },
        "id": "50XQL10zfvZS",
        "outputId": "6b39a30e-c747-4ad5-85c9-c1d000a77bd5"
      },
      "execution_count": 15,
      "outputs": [
        {
          "output_type": "stream",
          "name": "stdout",
          "text": [
            "Epoch 1/100\n",
            "\u001b[1m7/7\u001b[0m \u001b[32m━━━━━━━━━━━━━━━━━━━━\u001b[0m\u001b[37m\u001b[0m \u001b[1m5s\u001b[0m 15ms/step - accuracy: 0.7931 - loss: 0.5338\n",
            "Epoch 2/100\n",
            "\u001b[1m7/7\u001b[0m \u001b[32m━━━━━━━━━━━━━━━━━━━━\u001b[0m\u001b[37m\u001b[0m \u001b[1m0s\u001b[0m 12ms/step - accuracy: 0.7814 - loss: 0.5049\n",
            "Epoch 3/100\n",
            "\u001b[1m7/7\u001b[0m \u001b[32m━━━━━━━━━━━━━━━━━━━━\u001b[0m\u001b[37m\u001b[0m \u001b[1m0s\u001b[0m 10ms/step - accuracy: 0.7785 - loss: 0.4724\n",
            "Epoch 4/100\n",
            "\u001b[1m7/7\u001b[0m \u001b[32m━━━━━━━━━━━━━━━━━━━━\u001b[0m\u001b[37m\u001b[0m \u001b[1m0s\u001b[0m 12ms/step - accuracy: 0.7888 - loss: 0.4584\n",
            "Epoch 5/100\n",
            "\u001b[1m7/7\u001b[0m \u001b[32m━━━━━━━━━━━━━━━━━━━━\u001b[0m\u001b[37m\u001b[0m \u001b[1m0s\u001b[0m 12ms/step - accuracy: 0.8607 - loss: 0.3807\n",
            "Epoch 6/100\n",
            "\u001b[1m7/7\u001b[0m \u001b[32m━━━━━━━━━━━━━━━━━━━━\u001b[0m\u001b[37m\u001b[0m \u001b[1m0s\u001b[0m 10ms/step - accuracy: 0.8511 - loss: 0.3817\n",
            "Epoch 7/100\n",
            "\u001b[1m7/7\u001b[0m \u001b[32m━━━━━━━━━━━━━━━━━━━━\u001b[0m\u001b[37m\u001b[0m \u001b[1m0s\u001b[0m 17ms/step - accuracy: 0.8260 - loss: 0.3917\n",
            "Epoch 8/100\n",
            "\u001b[1m7/7\u001b[0m \u001b[32m━━━━━━━━━━━━━━━━━━━━\u001b[0m\u001b[37m\u001b[0m \u001b[1m0s\u001b[0m 14ms/step - accuracy: 0.8494 - loss: 0.3550 \n",
            "Epoch 9/100\n",
            "\u001b[1m7/7\u001b[0m \u001b[32m━━━━━━━━━━━━━━━━━━━━\u001b[0m\u001b[37m\u001b[0m \u001b[1m0s\u001b[0m 18ms/step - accuracy: 0.8542 - loss: 0.3470\n",
            "Epoch 10/100\n",
            "\u001b[1m7/7\u001b[0m \u001b[32m━━━━━━━━━━━━━━━━━━━━\u001b[0m\u001b[37m\u001b[0m \u001b[1m0s\u001b[0m 14ms/step - accuracy: 0.8513 - loss: 0.3424\n",
            "Epoch 11/100\n",
            "\u001b[1m7/7\u001b[0m \u001b[32m━━━━━━━━━━━━━━━━━━━━\u001b[0m\u001b[37m\u001b[0m \u001b[1m0s\u001b[0m 20ms/step - accuracy: 0.8581 - loss: 0.3215\n",
            "Epoch 12/100\n",
            "\u001b[1m7/7\u001b[0m \u001b[32m━━━━━━━━━━━━━━━━━━━━\u001b[0m\u001b[37m\u001b[0m \u001b[1m0s\u001b[0m 12ms/step - accuracy: 0.8728 - loss: 0.2844\n",
            "Epoch 13/100\n",
            "\u001b[1m7/7\u001b[0m \u001b[32m━━━━━━━━━━━━━━━━━━━━\u001b[0m\u001b[37m\u001b[0m \u001b[1m0s\u001b[0m 10ms/step - accuracy: 0.8515 - loss: 0.3200\n",
            "Epoch 14/100\n",
            "\u001b[1m7/7\u001b[0m \u001b[32m━━━━━━━━━━━━━━━━━━━━\u001b[0m\u001b[37m\u001b[0m \u001b[1m0s\u001b[0m 10ms/step - accuracy: 0.8567 - loss: 0.3261\n",
            "Epoch 15/100\n",
            "\u001b[1m7/7\u001b[0m \u001b[32m━━━━━━━━━━━━━━━━━━━━\u001b[0m\u001b[37m\u001b[0m \u001b[1m0s\u001b[0m 12ms/step - accuracy: 0.8872 - loss: 0.2784\n",
            "Epoch 16/100\n",
            "\u001b[1m7/7\u001b[0m \u001b[32m━━━━━━━━━━━━━━━━━━━━\u001b[0m\u001b[37m\u001b[0m \u001b[1m0s\u001b[0m 12ms/step - accuracy: 0.8811 - loss: 0.2828\n",
            "Epoch 17/100\n",
            "\u001b[1m7/7\u001b[0m \u001b[32m━━━━━━━━━━━━━━━━━━━━\u001b[0m\u001b[37m\u001b[0m \u001b[1m0s\u001b[0m 21ms/step - accuracy: 0.8595 - loss: 0.2901\n",
            "Epoch 18/100\n",
            "\u001b[1m7/7\u001b[0m \u001b[32m━━━━━━━━━━━━━━━━━━━━\u001b[0m\u001b[37m\u001b[0m \u001b[1m0s\u001b[0m 21ms/step - accuracy: 0.8406 - loss: 0.3206 \n",
            "Epoch 19/100\n",
            "\u001b[1m7/7\u001b[0m \u001b[32m━━━━━━━━━━━━━━━━━━━━\u001b[0m\u001b[37m\u001b[0m \u001b[1m0s\u001b[0m 23ms/step - accuracy: 0.8477 - loss: 0.3126\n",
            "Epoch 20/100\n",
            "\u001b[1m7/7\u001b[0m \u001b[32m━━━━━━━━━━━━━━━━━━━━\u001b[0m\u001b[37m\u001b[0m \u001b[1m0s\u001b[0m 16ms/step - accuracy: 0.8818 - loss: 0.2669 \n",
            "Epoch 21/100\n",
            "\u001b[1m7/7\u001b[0m \u001b[32m━━━━━━━━━━━━━━━━━━━━\u001b[0m\u001b[37m\u001b[0m \u001b[1m0s\u001b[0m 25ms/step - accuracy: 0.8538 - loss: 0.2955\n",
            "Epoch 22/100\n",
            "\u001b[1m7/7\u001b[0m \u001b[32m━━━━━━━━━━━━━━━━━━━━\u001b[0m\u001b[37m\u001b[0m \u001b[1m0s\u001b[0m 21ms/step - accuracy: 0.8511 - loss: 0.2872\n",
            "Epoch 23/100\n",
            "\u001b[1m7/7\u001b[0m \u001b[32m━━━━━━━━━━━━━━━━━━━━\u001b[0m\u001b[37m\u001b[0m \u001b[1m0s\u001b[0m 31ms/step - accuracy: 0.8542 - loss: 0.2889\n",
            "Epoch 24/100\n",
            "\u001b[1m7/7\u001b[0m \u001b[32m━━━━━━━━━━━━━━━━━━━━\u001b[0m\u001b[37m\u001b[0m \u001b[1m1s\u001b[0m 22ms/step - accuracy: 0.8781 - loss: 0.2682 \n",
            "Epoch 25/100\n",
            "\u001b[1m7/7\u001b[0m \u001b[32m━━━━━━━━━━━━━━━━━━━━\u001b[0m\u001b[37m\u001b[0m \u001b[1m1s\u001b[0m 71ms/step - accuracy: 0.8652 - loss: 0.2876\n",
            "Epoch 26/100\n",
            "\u001b[1m7/7\u001b[0m \u001b[32m━━━━━━━━━━━━━━━━━━━━\u001b[0m\u001b[37m\u001b[0m \u001b[1m0s\u001b[0m 39ms/step - accuracy: 0.8850 - loss: 0.2628\n",
            "Epoch 27/100\n",
            "\u001b[1m7/7\u001b[0m \u001b[32m━━━━━━━━━━━━━━━━━━━━\u001b[0m\u001b[37m\u001b[0m \u001b[1m1s\u001b[0m 29ms/step - accuracy: 0.8739 - loss: 0.2851\n",
            "Epoch 28/100\n",
            "\u001b[1m7/7\u001b[0m \u001b[32m━━━━━━━━━━━━━━━━━━━━\u001b[0m\u001b[37m\u001b[0m \u001b[1m0s\u001b[0m 32ms/step - accuracy: 0.8980 - loss: 0.2513\n",
            "Epoch 29/100\n",
            "\u001b[1m7/7\u001b[0m \u001b[32m━━━━━━━━━━━━━━━━━━━━\u001b[0m\u001b[37m\u001b[0m \u001b[1m0s\u001b[0m 22ms/step - accuracy: 0.9265 - loss: 0.2346\n",
            "Epoch 30/100\n",
            "\u001b[1m7/7\u001b[0m \u001b[32m━━━━━━━━━━━━━━━━━━━━\u001b[0m\u001b[37m\u001b[0m \u001b[1m0s\u001b[0m 24ms/step - accuracy: 0.8777 - loss: 0.2813\n",
            "Epoch 31/100\n",
            "\u001b[1m7/7\u001b[0m \u001b[32m━━━━━━━━━━━━━━━━━━━━\u001b[0m\u001b[37m\u001b[0m \u001b[1m0s\u001b[0m 21ms/step - accuracy: 0.8967 - loss: 0.2685\n",
            "Epoch 32/100\n",
            "\u001b[1m7/7\u001b[0m \u001b[32m━━━━━━━━━━━━━━━━━━━━\u001b[0m\u001b[37m\u001b[0m \u001b[1m0s\u001b[0m 18ms/step - accuracy: 0.8870 - loss: 0.2769\n",
            "Epoch 33/100\n",
            "\u001b[1m7/7\u001b[0m \u001b[32m━━━━━━━━━━━━━━━━━━━━\u001b[0m\u001b[37m\u001b[0m \u001b[1m0s\u001b[0m 13ms/step - accuracy: 0.8996 - loss: 0.2707 \n",
            "Epoch 34/100\n",
            "\u001b[1m7/7\u001b[0m \u001b[32m━━━━━━━━━━━━━━━━━━━━\u001b[0m\u001b[37m\u001b[0m \u001b[1m0s\u001b[0m 23ms/step - accuracy: 0.8787 - loss: 0.2856\n",
            "Epoch 35/100\n",
            "\u001b[1m7/7\u001b[0m \u001b[32m━━━━━━━━━━━━━━━━━━━━\u001b[0m\u001b[37m\u001b[0m \u001b[1m0s\u001b[0m 24ms/step - accuracy: 0.8913 - loss: 0.2563\n",
            "Epoch 36/100\n",
            "\u001b[1m7/7\u001b[0m \u001b[32m━━━━━━━━━━━━━━━━━━━━\u001b[0m\u001b[37m\u001b[0m \u001b[1m0s\u001b[0m 25ms/step - accuracy: 0.9032 - loss: 0.2280 \n",
            "Epoch 37/100\n",
            "\u001b[1m7/7\u001b[0m \u001b[32m━━━━━━━━━━━━━━━━━━━━\u001b[0m\u001b[37m\u001b[0m \u001b[1m0s\u001b[0m 9ms/step - accuracy: 0.8903 - loss: 0.2488 \n",
            "Epoch 38/100\n",
            "\u001b[1m7/7\u001b[0m \u001b[32m━━━━━━━━━━━━━━━━━━━━\u001b[0m\u001b[37m\u001b[0m \u001b[1m0s\u001b[0m 11ms/step - accuracy: 0.8877 - loss: 0.2679\n",
            "Epoch 39/100\n",
            "\u001b[1m7/7\u001b[0m \u001b[32m━━━━━━━━━━━━━━━━━━━━\u001b[0m\u001b[37m\u001b[0m \u001b[1m0s\u001b[0m 11ms/step - accuracy: 0.8787 - loss: 0.2706\n",
            "Epoch 40/100\n",
            "\u001b[1m7/7\u001b[0m \u001b[32m━━━━━━━━━━━━━━━━━━━━\u001b[0m\u001b[37m\u001b[0m \u001b[1m0s\u001b[0m 8ms/step - accuracy: 0.8782 - loss: 0.2809 \n",
            "Epoch 41/100\n",
            "\u001b[1m7/7\u001b[0m \u001b[32m━━━━━━━━━━━━━━━━━━━━\u001b[0m\u001b[37m\u001b[0m \u001b[1m0s\u001b[0m 6ms/step - accuracy: 0.8893 - loss: 0.2794 \n",
            "Epoch 42/100\n",
            "\u001b[1m7/7\u001b[0m \u001b[32m━━━━━━━━━━━━━━━━━━━━\u001b[0m\u001b[37m\u001b[0m \u001b[1m0s\u001b[0m 11ms/step - accuracy: 0.8930 - loss: 0.2676\n",
            "Epoch 43/100\n",
            "\u001b[1m7/7\u001b[0m \u001b[32m━━━━━━━━━━━━━━━━━━━━\u001b[0m\u001b[37m\u001b[0m \u001b[1m0s\u001b[0m 7ms/step - accuracy: 0.8953 - loss: 0.2510 \n",
            "Epoch 44/100\n",
            "\u001b[1m7/7\u001b[0m \u001b[32m━━━━━━━━━━━━━━━━━━━━\u001b[0m\u001b[37m\u001b[0m \u001b[1m0s\u001b[0m 6ms/step - accuracy: 0.8993 - loss: 0.2373 \n",
            "Epoch 45/100\n",
            "\u001b[1m7/7\u001b[0m \u001b[32m━━━━━━━━━━━━━━━━━━━━\u001b[0m\u001b[37m\u001b[0m \u001b[1m0s\u001b[0m 7ms/step - accuracy: 0.9041 - loss: 0.2450 \n",
            "Epoch 46/100\n",
            "\u001b[1m7/7\u001b[0m \u001b[32m━━━━━━━━━━━━━━━━━━━━\u001b[0m\u001b[37m\u001b[0m \u001b[1m0s\u001b[0m 7ms/step - accuracy: 0.8967 - loss: 0.2355 \n",
            "Epoch 47/100\n",
            "\u001b[1m7/7\u001b[0m \u001b[32m━━━━━━━━━━━━━━━━━━━━\u001b[0m\u001b[37m\u001b[0m \u001b[1m0s\u001b[0m 7ms/step - accuracy: 0.9220 - loss: 0.2040 \n",
            "Epoch 48/100\n",
            "\u001b[1m7/7\u001b[0m \u001b[32m━━━━━━━━━━━━━━━━━━━━\u001b[0m\u001b[37m\u001b[0m \u001b[1m0s\u001b[0m 6ms/step - accuracy: 0.9140 - loss: 0.2257 \n",
            "Epoch 49/100\n",
            "\u001b[1m7/7\u001b[0m \u001b[32m━━━━━━━━━━━━━━━━━━━━\u001b[0m\u001b[37m\u001b[0m \u001b[1m0s\u001b[0m 7ms/step - accuracy: 0.8816 - loss: 0.2620 \n",
            "Epoch 50/100\n",
            "\u001b[1m7/7\u001b[0m \u001b[32m━━━━━━━━━━━━━━━━━━━━\u001b[0m\u001b[37m\u001b[0m \u001b[1m0s\u001b[0m 7ms/step - accuracy: 0.9019 - loss: 0.2590 \n",
            "Epoch 51/100\n",
            "\u001b[1m7/7\u001b[0m \u001b[32m━━━━━━━━━━━━━━━━━━━━\u001b[0m\u001b[37m\u001b[0m \u001b[1m0s\u001b[0m 7ms/step - accuracy: 0.9098 - loss: 0.2230 \n",
            "Epoch 52/100\n",
            "\u001b[1m7/7\u001b[0m \u001b[32m━━━━━━━━━━━━━━━━━━━━\u001b[0m\u001b[37m\u001b[0m \u001b[1m0s\u001b[0m 9ms/step - accuracy: 0.8985 - loss: 0.2534 \n",
            "Epoch 53/100\n",
            "\u001b[1m7/7\u001b[0m \u001b[32m━━━━━━━━━━━━━━━━━━━━\u001b[0m\u001b[37m\u001b[0m \u001b[1m0s\u001b[0m 9ms/step - accuracy: 0.9153 - loss: 0.2372 \n",
            "Epoch 54/100\n",
            "\u001b[1m7/7\u001b[0m \u001b[32m━━━━━━━━━━━━━━━━━━━━\u001b[0m\u001b[37m\u001b[0m \u001b[1m0s\u001b[0m 7ms/step - accuracy: 0.9070 - loss: 0.2397 \n",
            "Epoch 55/100\n",
            "\u001b[1m7/7\u001b[0m \u001b[32m━━━━━━━━━━━━━━━━━━━━\u001b[0m\u001b[37m\u001b[0m \u001b[1m0s\u001b[0m 8ms/step - accuracy: 0.9029 - loss: 0.2410 \n",
            "Epoch 56/100\n",
            "\u001b[1m7/7\u001b[0m \u001b[32m━━━━━━━━━━━━━━━━━━━━\u001b[0m\u001b[37m\u001b[0m \u001b[1m0s\u001b[0m 7ms/step - accuracy: 0.9135 - loss: 0.2071 \n",
            "Epoch 57/100\n",
            "\u001b[1m7/7\u001b[0m \u001b[32m━━━━━━━━━━━━━━━━━━━━\u001b[0m\u001b[37m\u001b[0m \u001b[1m0s\u001b[0m 7ms/step - accuracy: 0.8871 - loss: 0.2703 \n",
            "Epoch 58/100\n",
            "\u001b[1m7/7\u001b[0m \u001b[32m━━━━━━━━━━━━━━━━━━━━\u001b[0m\u001b[37m\u001b[0m \u001b[1m0s\u001b[0m 7ms/step - accuracy: 0.8854 - loss: 0.2476 \n",
            "Epoch 59/100\n",
            "\u001b[1m7/7\u001b[0m \u001b[32m━━━━━━━━━━━━━━━━━━━━\u001b[0m\u001b[37m\u001b[0m \u001b[1m0s\u001b[0m 8ms/step - accuracy: 0.9085 - loss: 0.2290 \n",
            "Epoch 60/100\n",
            "\u001b[1m7/7\u001b[0m \u001b[32m━━━━━━━━━━━━━━━━━━━━\u001b[0m\u001b[37m\u001b[0m \u001b[1m0s\u001b[0m 8ms/step - accuracy: 0.8999 - loss: 0.2389 \n",
            "Epoch 61/100\n",
            "\u001b[1m7/7\u001b[0m \u001b[32m━━━━━━━━━━━━━━━━━━━━\u001b[0m\u001b[37m\u001b[0m \u001b[1m0s\u001b[0m 8ms/step - accuracy: 0.9007 - loss: 0.2369 \n",
            "Epoch 62/100\n",
            "\u001b[1m7/7\u001b[0m \u001b[32m━━━━━━━━━━━━━━━━━━━━\u001b[0m\u001b[37m\u001b[0m \u001b[1m0s\u001b[0m 9ms/step - accuracy: 0.8865 - loss: 0.2425 \n",
            "Epoch 63/100\n",
            "\u001b[1m7/7\u001b[0m \u001b[32m━━━━━━━━━━━━━━━━━━━━\u001b[0m\u001b[37m\u001b[0m \u001b[1m0s\u001b[0m 9ms/step - accuracy: 0.8846 - loss: 0.2603 \n",
            "Epoch 64/100\n",
            "\u001b[1m7/7\u001b[0m \u001b[32m━━━━━━━━━━━━━━━━━━━━\u001b[0m\u001b[37m\u001b[0m \u001b[1m0s\u001b[0m 15ms/step - accuracy: 0.9203 - loss: 0.2189\n",
            "Epoch 65/100\n",
            "\u001b[1m7/7\u001b[0m \u001b[32m━━━━━━━━━━━━━━━━━━━━\u001b[0m\u001b[37m\u001b[0m \u001b[1m0s\u001b[0m 14ms/step - accuracy: 0.9168 - loss: 0.2275\n",
            "Epoch 66/100\n",
            "\u001b[1m7/7\u001b[0m \u001b[32m━━━━━━━━━━━━━━━━━━━━\u001b[0m\u001b[37m\u001b[0m \u001b[1m0s\u001b[0m 9ms/step - accuracy: 0.9047 - loss: 0.2277 \n",
            "Epoch 67/100\n",
            "\u001b[1m7/7\u001b[0m \u001b[32m━━━━━━━━━━━━━━━━━━━━\u001b[0m\u001b[37m\u001b[0m \u001b[1m0s\u001b[0m 9ms/step - accuracy: 0.8987 - loss: 0.2376 \n",
            "Epoch 68/100\n",
            "\u001b[1m7/7\u001b[0m \u001b[32m━━━━━━━━━━━━━━━━━━━━\u001b[0m\u001b[37m\u001b[0m \u001b[1m0s\u001b[0m 7ms/step - accuracy: 0.9351 - loss: 0.1718 \n",
            "Epoch 69/100\n",
            "\u001b[1m7/7\u001b[0m \u001b[32m━━━━━━━━━━━━━━━━━━━━\u001b[0m\u001b[37m\u001b[0m \u001b[1m0s\u001b[0m 8ms/step - accuracy: 0.9164 - loss: 0.2037 \n",
            "Epoch 70/100\n",
            "\u001b[1m7/7\u001b[0m \u001b[32m━━━━━━━━━━━━━━━━━━━━\u001b[0m\u001b[37m\u001b[0m \u001b[1m0s\u001b[0m 7ms/step - accuracy: 0.9064 - loss: 0.2209 \n",
            "Epoch 71/100\n",
            "\u001b[1m7/7\u001b[0m \u001b[32m━━━━━━━━━━━━━━━━━━━━\u001b[0m\u001b[37m\u001b[0m \u001b[1m0s\u001b[0m 8ms/step - accuracy: 0.9015 - loss: 0.2323 \n",
            "Epoch 72/100\n",
            "\u001b[1m7/7\u001b[0m \u001b[32m━━━━━━━━━━━━━━━━━━━━\u001b[0m\u001b[37m\u001b[0m \u001b[1m0s\u001b[0m 8ms/step - accuracy: 0.9203 - loss: 0.1915 \n",
            "Epoch 73/100\n",
            "\u001b[1m7/7\u001b[0m \u001b[32m━━━━━━━━━━━━━━━━━━━━\u001b[0m\u001b[37m\u001b[0m \u001b[1m0s\u001b[0m 8ms/step - accuracy: 0.9282 - loss: 0.1921 \n",
            "Epoch 74/100\n",
            "\u001b[1m7/7\u001b[0m \u001b[32m━━━━━━━━━━━━━━━━━━━━\u001b[0m\u001b[37m\u001b[0m \u001b[1m0s\u001b[0m 7ms/step - accuracy: 0.9225 - loss: 0.1979 \n",
            "Epoch 75/100\n",
            "\u001b[1m7/7\u001b[0m \u001b[32m━━━━━━━━━━━━━━━━━━━━\u001b[0m\u001b[37m\u001b[0m \u001b[1m0s\u001b[0m 12ms/step - accuracy: 0.8899 - loss: 0.2268\n",
            "Epoch 76/100\n",
            "\u001b[1m7/7\u001b[0m \u001b[32m━━━━━━━━━━━━━━━━━━━━\u001b[0m\u001b[37m\u001b[0m \u001b[1m0s\u001b[0m 13ms/step - accuracy: 0.9048 - loss: 0.1995\n",
            "Epoch 77/100\n",
            "\u001b[1m7/7\u001b[0m \u001b[32m━━━━━━━━━━━━━━━━━━━━\u001b[0m\u001b[37m\u001b[0m \u001b[1m0s\u001b[0m 15ms/step - accuracy: 0.9319 - loss: 0.1679\n",
            "Epoch 78/100\n",
            "\u001b[1m7/7\u001b[0m \u001b[32m━━━━━━━━━━━━━━━━━━━━\u001b[0m\u001b[37m\u001b[0m \u001b[1m0s\u001b[0m 11ms/step - accuracy: 0.9387 - loss: 0.1593\n",
            "Epoch 79/100\n",
            "\u001b[1m7/7\u001b[0m \u001b[32m━━━━━━━━━━━━━━━━━━━━\u001b[0m\u001b[37m\u001b[0m \u001b[1m0s\u001b[0m 9ms/step - accuracy: 0.9127 - loss: 0.1900 \n",
            "Epoch 80/100\n",
            "\u001b[1m7/7\u001b[0m \u001b[32m━━━━━━━━━━━━━━━━━━━━\u001b[0m\u001b[37m\u001b[0m \u001b[1m0s\u001b[0m 8ms/step - accuracy: 0.9215 - loss: 0.1751 \n",
            "Epoch 81/100\n",
            "\u001b[1m7/7\u001b[0m \u001b[32m━━━━━━━━━━━━━━━━━━━━\u001b[0m\u001b[37m\u001b[0m \u001b[1m0s\u001b[0m 12ms/step - accuracy: 0.9326 - loss: 0.1717\n",
            "Epoch 82/100\n",
            "\u001b[1m7/7\u001b[0m \u001b[32m━━━━━━━━━━━━━━━━━━━━\u001b[0m\u001b[37m\u001b[0m \u001b[1m0s\u001b[0m 19ms/step - accuracy: 0.9179 - loss: 0.1842\n",
            "Epoch 83/100\n",
            "\u001b[1m7/7\u001b[0m \u001b[32m━━━━━━━━━━━━━━━━━━━━\u001b[0m\u001b[37m\u001b[0m \u001b[1m0s\u001b[0m 7ms/step - accuracy: 0.9243 - loss: 0.1530  \n",
            "Epoch 84/100\n",
            "\u001b[1m7/7\u001b[0m \u001b[32m━━━━━━━━━━━━━━━━━━━━\u001b[0m\u001b[37m\u001b[0m \u001b[1m0s\u001b[0m 7ms/step - accuracy: 0.9418 - loss: 0.1543 \n",
            "Epoch 85/100\n",
            "\u001b[1m7/7\u001b[0m \u001b[32m━━━━━━━━━━━━━━━━━━━━\u001b[0m\u001b[37m\u001b[0m \u001b[1m0s\u001b[0m 7ms/step - accuracy: 0.9124 - loss: 0.1716 \n",
            "Epoch 86/100\n",
            "\u001b[1m7/7\u001b[0m \u001b[32m━━━━━━━━━━━━━━━━━━━━\u001b[0m\u001b[37m\u001b[0m \u001b[1m0s\u001b[0m 8ms/step - accuracy: 0.9300 - loss: 0.1606 \n",
            "Epoch 87/100\n",
            "\u001b[1m7/7\u001b[0m \u001b[32m━━━━━━━━━━━━━━━━━━━━\u001b[0m\u001b[37m\u001b[0m \u001b[1m0s\u001b[0m 9ms/step - accuracy: 0.9397 - loss: 0.1378 \n",
            "Epoch 88/100\n",
            "\u001b[1m7/7\u001b[0m \u001b[32m━━━━━━━━━━━━━━━━━━━━\u001b[0m\u001b[37m\u001b[0m \u001b[1m0s\u001b[0m 13ms/step - accuracy: 0.9401 - loss: 0.1467\n",
            "Epoch 89/100\n",
            "\u001b[1m7/7\u001b[0m \u001b[32m━━━━━━━━━━━━━━━━━━━━\u001b[0m\u001b[37m\u001b[0m \u001b[1m0s\u001b[0m 15ms/step - accuracy: 0.9414 - loss: 0.1399\n",
            "Epoch 90/100\n",
            "\u001b[1m7/7\u001b[0m \u001b[32m━━━━━━━━━━━━━━━━━━━━\u001b[0m\u001b[37m\u001b[0m \u001b[1m0s\u001b[0m 8ms/step - accuracy: 0.9533 - loss: 0.1261 \n",
            "Epoch 91/100\n",
            "\u001b[1m7/7\u001b[0m \u001b[32m━━━━━━━━━━━━━━━━━━━━\u001b[0m\u001b[37m\u001b[0m \u001b[1m0s\u001b[0m 10ms/step - accuracy: 0.9379 - loss: 0.1386\n",
            "Epoch 92/100\n",
            "\u001b[1m7/7\u001b[0m \u001b[32m━━━━━━━━━━━━━━━━━━━━\u001b[0m\u001b[37m\u001b[0m \u001b[1m0s\u001b[0m 14ms/step - accuracy: 0.9409 - loss: 0.1322\n",
            "Epoch 93/100\n",
            "\u001b[1m7/7\u001b[0m \u001b[32m━━━━━━━━━━━━━━━━━━━━\u001b[0m\u001b[37m\u001b[0m \u001b[1m0s\u001b[0m 14ms/step - accuracy: 0.9580 - loss: 0.1453\n",
            "Epoch 94/100\n",
            "\u001b[1m7/7\u001b[0m \u001b[32m━━━━━━━━━━━━━━━━━━━━\u001b[0m\u001b[37m\u001b[0m \u001b[1m0s\u001b[0m 9ms/step - accuracy: 0.9450 - loss: 0.1514 \n",
            "Epoch 95/100\n",
            "\u001b[1m7/7\u001b[0m \u001b[32m━━━━━━━━━━━━━━━━━━━━\u001b[0m\u001b[37m\u001b[0m \u001b[1m0s\u001b[0m 11ms/step - accuracy: 0.9473 - loss: 0.1362\n",
            "Epoch 96/100\n",
            "\u001b[1m7/7\u001b[0m \u001b[32m━━━━━━━━━━━━━━━━━━━━\u001b[0m\u001b[37m\u001b[0m \u001b[1m0s\u001b[0m 13ms/step - accuracy: 0.9469 - loss: 0.1226\n",
            "Epoch 97/100\n",
            "\u001b[1m7/7\u001b[0m \u001b[32m━━━━━━━━━━━━━━━━━━━━\u001b[0m\u001b[37m\u001b[0m \u001b[1m0s\u001b[0m 10ms/step - accuracy: 0.9454 - loss: 0.1234\n",
            "Epoch 98/100\n",
            "\u001b[1m7/7\u001b[0m \u001b[32m━━━━━━━━━━━━━━━━━━━━\u001b[0m\u001b[37m\u001b[0m \u001b[1m0s\u001b[0m 8ms/step - accuracy: 0.9261 - loss: 0.1483 \n",
            "Epoch 99/100\n",
            "\u001b[1m7/7\u001b[0m \u001b[32m━━━━━━━━━━━━━━━━━━━━\u001b[0m\u001b[37m\u001b[0m \u001b[1m0s\u001b[0m 9ms/step - accuracy: 0.9545 - loss: 0.1097 \n",
            "Epoch 100/100\n",
            "\u001b[1m7/7\u001b[0m \u001b[32m━━━━━━━━━━━━━━━━━━━━\u001b[0m\u001b[37m\u001b[0m \u001b[1m0s\u001b[0m 10ms/step - accuracy: 0.9583 - loss: 0.1175\n"
          ]
        }
      ]
    },
    {
      "cell_type": "code",
      "source": [
        "model.get_weights() # new weights after training"
      ],
      "metadata": {
        "colab": {
          "base_uri": "https://localhost:8080/"
        },
        "id": "-Yb4-nXbf0GG",
        "outputId": "538e5305-e273-455e-bdb6-69907c41b85e"
      },
      "execution_count": 16,
      "outputs": [
        {
          "output_type": "execute_result",
          "data": {
            "text/plain": [
              "[array([[-1.6300055e-01, -2.1587765e-01,  5.3799752e-02,  8.9331031e-01,\n",
              "          1.2615392e+00, -2.4748009e-01, -3.3602452e-01,  1.9093686e+00,\n",
              "         -7.8372800e-01, -3.2715803e-01],\n",
              "        [-1.8853918e-01, -8.0256706e-01, -1.8906489e-05, -1.6142239e-01,\n",
              "          4.8947641e-01,  7.2816610e-01,  4.9920043e-01,  1.5260254e+00,\n",
              "         -1.2869369e+00, -4.8280131e-02]], dtype=float32),\n",
              " array([ 0.05962963,  0.10334703,  0.0447441 ,  0.10799686, -0.26054847,\n",
              "        -0.00712799,  0.00772949,  0.48491552,  0.05381506,  0.04700157],\n",
              "       dtype=float32),\n",
              " array([[ 0.2905501 , -0.59376425, -0.04170489,  0.24508351, -0.05477806,\n",
              "          0.42885894, -0.01095188, -0.40977204,  0.01848225, -0.01786926],\n",
              "        [ 0.02208534,  0.26591718,  0.26109114, -0.07877542,  0.04061355,\n",
              "          0.11372253, -0.28557023, -0.83308923,  0.08662947,  0.22200018],\n",
              "        [-0.22471353,  0.12142747, -0.29446486,  0.22055073, -0.11911932,\n",
              "          0.110484  , -0.3545013 , -0.33798406, -0.6478438 ,  0.16384923],\n",
              "        [ 0.39002523,  0.07535078,  0.36016926,  0.14501458,  0.2546313 ,\n",
              "         -0.05413211, -0.04707024, -0.283614  , -0.16114321, -0.5209236 ],\n",
              "        [ 0.27768603, -0.03960732, -0.04422009,  0.24418898, -0.3692711 ,\n",
              "          0.23976588,  0.26598656, -0.3301387 ,  0.6906142 ,  0.28074273],\n",
              "        [ 0.46517712, -0.6883649 ,  0.03546603,  0.63136834, -0.33809146,\n",
              "          0.46189126,  0.4056265 , -0.10052404,  0.5878231 , -0.45931488],\n",
              "        [-0.35940337, -0.06344   , -0.14761236,  0.14240436, -0.3734924 ,\n",
              "         -0.22955738,  0.16202249,  0.09428122,  0.5560077 , -0.04330279],\n",
              "        [-0.5941274 , -0.34545606, -0.21110272, -0.23040996,  0.07039092,\n",
              "         -0.09451767, -0.6149024 ,  0.33452544, -0.16352247,  0.3026697 ],\n",
              "        [-0.16790842,  0.18674265, -0.01795585,  0.06806087, -0.22328816,\n",
              "         -0.2888739 ,  0.05225995,  0.29867774, -0.05719412,  0.411771  ],\n",
              "        [ 0.05360899, -0.10566629, -0.0407363 , -0.02653484,  0.11236151,\n",
              "          0.06608775,  0.36744517, -0.11092117,  0.38927186, -0.35505658]],\n",
              "       dtype=float32),\n",
              " array([ 0.08615434,  0.02732255, -0.00722406,  0.02986642, -0.01107224,\n",
              "         0.02876335, -0.02221387, -0.05624647,  0.0235431 , -0.00678674],\n",
              "       dtype=float32),\n",
              " array([[ 0.36059594, -0.19330126,  0.25106066, -0.6531973 ,  0.12268803,\n",
              "          0.11125636,  0.47212756,  0.36466607, -0.2562477 , -0.22043201],\n",
              "        [-0.29199243, -0.03908025, -0.3826687 ,  0.19298714, -0.08025727,\n",
              "         -0.12212484,  0.05572686, -0.10492711,  0.22172867,  0.3630814 ],\n",
              "        [ 0.00773589,  0.44671378,  0.26562363,  0.21508177, -0.18150204,\n",
              "         -0.32736045, -0.22088425, -0.28093216,  0.24169265, -0.10160126],\n",
              "        [ 0.13371558, -0.08833113,  0.24325906, -0.14861572, -0.3357831 ,\n",
              "          0.03047654, -0.03450649,  0.13767049, -0.70727855, -0.3752534 ],\n",
              "        [-0.5382811 ,  0.16082367, -0.5593111 ,  0.01482859,  0.51325595,\n",
              "          0.06719352, -0.44381455, -0.54751277, -0.03629163,  0.51097804],\n",
              "        [-0.11715747, -0.11688104, -0.14311066,  0.11962727, -0.49222183,\n",
              "         -0.28667074,  0.16951822,  0.25765416, -0.37510538, -0.25963467],\n",
              "        [ 0.16169319, -0.15763028, -0.1318268 ,  0.11010815, -0.29145604,\n",
              "         -0.02802605,  0.12942234,  0.49963453, -0.59309965,  0.02774208],\n",
              "        [-0.20949958,  0.01755219, -0.30576777,  0.04176912,  0.39570698,\n",
              "          0.4303672 , -0.2192772 ,  0.09082402,  0.7736231 ,  0.6086529 ],\n",
              "        [ 0.10340956, -0.33786744,  0.35153836, -0.343789  , -0.4823622 ,\n",
              "         -0.3980137 ,  0.37222648, -0.25478077, -0.53983355, -0.4206028 ],\n",
              "        [-0.0832822 ,  0.3248656 , -0.01147238,  0.6814864 ,  0.00495802,\n",
              "          0.48295182, -0.2804959 ,  0.0237942 , -0.62543035,  0.20166528]],\n",
              "       dtype=float32),\n",
              " array([ 0.06181605, -0.01583283, -0.00869532, -0.0004416 , -0.02545959,\n",
              "        -0.04451223,  0.02503365,  0.00803091, -0.05853721, -0.01643569],\n",
              "       dtype=float32),\n",
              " array([[-6.08122721e-02, -1.82031542e-01, -6.71245813e-01,\n",
              "          2.74885327e-01,  6.31769001e-01, -8.11743885e-02,\n",
              "          3.09566498e-01,  8.56293142e-02,  8.32951590e-02,\n",
              "          2.85365403e-01],\n",
              "        [-6.92364752e-01,  1.50683105e-01, -1.91827089e-01,\n",
              "         -6.36122704e-01,  1.41648808e-02,  2.34287322e-01,\n",
              "         -7.79131055e-02, -4.36125435e-02,  1.89515933e-01,\n",
              "          2.42214561e-01],\n",
              "        [ 1.25124320e-01, -2.67443955e-02, -3.56198728e-01,\n",
              "          2.24180892e-01, -8.31370726e-02, -1.35117650e-01,\n",
              "         -1.11930244e-01, -3.82127196e-01,  5.35930730e-02,\n",
              "         -1.11996541e-02],\n",
              "        [-1.89671010e-01, -1.76695868e-01, -5.59333265e-02,\n",
              "         -4.12295491e-01,  2.38111749e-01, -1.33393586e-01,\n",
              "          3.00623298e-01,  4.93490994e-01, -7.54553974e-02,\n",
              "         -1.24654055e-01],\n",
              "        [-1.25565782e-01,  2.91880399e-01,  5.01605928e-01,\n",
              "         -1.14281863e-01,  1.73598140e-01, -4.64955810e-05,\n",
              "          4.08840686e-01,  1.75799236e-01, -1.41602206e+00,\n",
              "          4.48041856e-01],\n",
              "        [ 1.01502247e-01,  1.18166029e+00,  8.14646721e-01,\n",
              "         -3.39149892e-01, -1.21826625e+00,  2.87682593e-01,\n",
              "          3.14425707e-01,  5.06871939e-01, -4.91497546e-01,\n",
              "          4.96866643e-01],\n",
              "        [-2.23328009e-01, -3.48159850e-01, -2.04749852e-01,\n",
              "          9.00744796e-02,  5.46608746e-01, -7.35079587e-01,\n",
              "         -3.41250092e-01, -2.35267013e-01,  3.33298862e-01,\n",
              "         -3.89296860e-01],\n",
              "        [-8.60857312e-03, -5.68342090e-01, -7.15265870e-02,\n",
              "         -2.19902933e-01,  1.00088567e-01, -3.30542624e-01,\n",
              "         -4.25749779e-01,  1.33111045e-01, -3.99150327e-02,\n",
              "         -5.08837223e-01],\n",
              "        [-7.64850140e-01,  2.44970247e-01,  1.22586332e-01,\n",
              "         -6.84964135e-02, -5.37912846e-01,  5.33346176e-01,\n",
              "          8.75089824e-01,  3.91246647e-01, -7.88292170e-01,\n",
              "          5.66778541e-01],\n",
              "        [-2.33681709e-01,  2.73915112e-01,  4.80553657e-01,\n",
              "         -5.07381141e-01, -1.97582707e-01,  6.13285780e-01,\n",
              "         -2.38514524e-02,  3.20298195e-01, -1.14312418e-01,\n",
              "          5.24413049e-01]], dtype=float32),\n",
              " array([ 0.06280871, -0.03335544, -0.04080686,  0.02438624,  0.04965997,\n",
              "        -0.02499111, -0.05154093, -0.03828517,  0.04778808, -0.02504405],\n",
              "       dtype=float32),\n",
              " array([[-0.5116693 ],\n",
              "        [ 0.58913577],\n",
              "        [ 0.40603298],\n",
              "        [-0.81903976],\n",
              "        [-0.7846417 ],\n",
              "        [ 0.42864716],\n",
              "        [ 0.5411141 ],\n",
              "        [ 0.85520893],\n",
              "        [-0.31974372],\n",
              "        [ 1.0081809 ]], dtype=float32),\n",
              " array([-0.05429866], dtype=float32)]"
            ]
          },
          "metadata": {},
          "execution_count": 16
        }
      ]
    },
    {
      "cell_type": "code",
      "source": [
        "from mlxtend.plotting import plot_decision_regions\n",
        "plot_decision_regions(X,y.astype('int'), clf=model, legend=2)"
      ],
      "metadata": {
        "colab": {
          "base_uri": "https://localhost:8080/",
          "height": 465
        },
        "id": "9o78cPi0glsB",
        "outputId": "88c0095b-cb2e-4e12-b96a-2f5ffcc424fe"
      },
      "execution_count": 17,
      "outputs": [
        {
          "output_type": "stream",
          "name": "stdout",
          "text": [
            "\u001b[1m9600/9600\u001b[0m \u001b[32m━━━━━━━━━━━━━━━━━━━━\u001b[0m\u001b[37m\u001b[0m \u001b[1m29s\u001b[0m 3ms/step\n"
          ]
        },
        {
          "output_type": "execute_result",
          "data": {
            "text/plain": [
              "<Axes: >"
            ]
          },
          "metadata": {},
          "execution_count": 17
        },
        {
          "output_type": "display_data",
          "data": {
            "text/plain": [
              "<Figure size 640x480 with 1 Axes>"
            ],
            "image/png": "[encoded data removed]"
          },
          "metadata": {}
        }
      ]
    },
    {
      "cell_type": "code",
      "source": [],
      "metadata": {
        "id": "vA55GY7-hAkf"
      },
      "execution_count": 17,
      "outputs": []
    }
  ]
}