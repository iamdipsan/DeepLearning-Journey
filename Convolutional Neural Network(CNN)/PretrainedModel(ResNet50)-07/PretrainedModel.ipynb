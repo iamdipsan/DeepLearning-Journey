{
  "nbformat": 4,
  "nbformat_minor": 0,
  "metadata": {
    "colab": {
      "provenance": []
    },
    "kernelspec": {
      "name": "python3",
      "display_name": "Python 3"
    },
    "language_info": {
      "name": "python"
    }
  },
  "cells": [
    {
      "cell_type": "markdown",
      "source": [
        "### refer to : https://keras.io/api/applications/  for more info and use chatgpt if needed\n"
      ],
      "metadata": {
        "id": "nxp_apL-wiZp"
      }
    },
    {
      "cell_type": "code",
      "execution_count": 1,
      "metadata": {
        "id": "CCuuBY1hsixO"
      },
      "outputs": [],
      "source": [
        "import keras\n",
        "from keras.applications.resnet50 import ResNet50\n",
        "from keras.applications.resnet50 import preprocess_input, decode_predictions\n",
        "import numpy as np\n"
      ]
    },
    {
      "cell_type": "code",
      "source": [
        "model =ResNet50(weights='imagenet')"
      ],
      "metadata": {
        "colab": {
          "base_uri": "https://localhost:8080/"
        },
        "id": "831Wek9wtFXM",
        "outputId": "89767308-be09-4fdf-9a0a-033edbfd345a"
      },
      "execution_count": 2,
      "outputs": [
        {
          "output_type": "stream",
          "name": "stdout",
          "text": [
            "Downloading data from https://storage.googleapis.com/tensorflow/keras-applications/resnet/resnet50_weights_tf_dim_ordering_tf_kernels.h5\n",
            "\u001b[1m102967424/102967424\u001b[0m \u001b[32m━━━━━━━━━━━━━━━━━━━━\u001b[0m\u001b[37m\u001b[0m \u001b[1m1s\u001b[0m 0us/step\n"
          ]
        }
      ]
    },
    {
      "cell_type": "markdown",
      "source": [
        "### using the resnet50 to see if it correclty classifies wether the image is bread or not"
      ],
      "metadata": {
        "id": "b8UqUtW9vPl3"
      }
    },
    {
      "cell_type": "code",
      "source": [
        "img_path=\"./images/bread.jpg\""
      ],
      "metadata": {
        "id": "-7MuXh3xtN1Q"
      },
      "execution_count": 8,
      "outputs": []
    },
    {
      "cell_type": "code",
      "source": [
        "img = keras.utils.load_img(img_path, target_size=(224, 224))\n",
        "x = keras.utils.img_to_array(img)\n",
        "x = np.expand_dims(x, axis=0)\n",
        "x = preprocess_input(x)"
      ],
      "metadata": {
        "id": "xMG5wcoPuBgX"
      },
      "execution_count": 9,
      "outputs": []
    },
    {
      "cell_type": "code",
      "source": [
        "predictions= model.predict(x)\n",
        "print(\"Predcited\",decode_predictions(predictions, top=3)[0])"
      ],
      "metadata": {
        "colab": {
          "base_uri": "https://localhost:8080/"
        },
        "id": "vcSzp7P9uNAb",
        "outputId": "f30a0662-e296-4b0c-c91c-390b4ae09872"
      },
      "execution_count": 10,
      "outputs": [
        {
          "output_type": "stream",
          "name": "stdout",
          "text": [
            "\u001b[1m1/1\u001b[0m \u001b[32m━━━━━━━━━━━━━━━━━━━━\u001b[0m\u001b[37m\u001b[0m \u001b[1m3s\u001b[0m 3s/step\n",
            "Downloading data from https://storage.googleapis.com/download.tensorflow.org/data/imagenet_class_index.json\n",
            "\u001b[1m35363/35363\u001b[0m \u001b[32m━━━━━━━━━━━━━━━━━━━━\u001b[0m\u001b[37m\u001b[0m \u001b[1m0s\u001b[0m 0us/step\n",
            "Predcited [('n07684084', 'French_loaf', np.float32(0.9150645)), ('n02776631', 'bakery', np.float32(0.04151355)), ('n07614500', 'ice_cream', np.float32(0.015724419))]\n"
          ]
        }
      ]
    },
    {
      "cell_type": "code",
      "source": [
        "#top 3 predictions were French_loaf(ie bread) ,bakery and icecream\n",
        "#it did predcit bread"
      ],
      "metadata": {
        "id": "8D_mwHSPu7Ap"
      },
      "execution_count": 11,
      "outputs": []
    },
    {
      "cell_type": "markdown",
      "source": [
        "## for car"
      ],
      "metadata": {
        "id": "gVLGZGImvh8E"
      }
    },
    {
      "cell_type": "code",
      "source": [
        "img_path=\"./images/car.jpeg\""
      ],
      "metadata": {
        "id": "8VaQn4GuvHHV"
      },
      "execution_count": 12,
      "outputs": []
    },
    {
      "cell_type": "code",
      "source": [
        "img = keras.utils.load_img(img_path, target_size=(224, 224))\n",
        "x = keras.utils.img_to_array(img)\n",
        "x = np.expand_dims(x, axis=0)\n",
        "x = preprocess_input(x)"
      ],
      "metadata": {
        "id": "rXVOMzTUvNLE"
      },
      "execution_count": 13,
      "outputs": []
    },
    {
      "cell_type": "code",
      "source": [
        "predictions= model.predict(x)\n",
        "print(\"Predcited\",decode_predictions(predictions, top=3)[0])"
      ],
      "metadata": {
        "colab": {
          "base_uri": "https://localhost:8080/"
        },
        "id": "FXEAI4tOvOIt",
        "outputId": "fa637684-0441-4dbb-d7f3-edfa90155211"
      },
      "execution_count": 14,
      "outputs": [
        {
          "output_type": "stream",
          "name": "stdout",
          "text": [
            "\u001b[1m1/1\u001b[0m \u001b[32m━━━━━━━━━━━━━━━━━━━━\u001b[0m\u001b[37m\u001b[0m \u001b[1m0s\u001b[0m 269ms/step\n",
            "Predcited [('n03769881', 'minibus', np.float32(0.4439684)), ('n03796401', 'moving_van', np.float32(0.2414703)), ('n03930630', 'pickup', np.float32(0.12905623))]\n"
          ]
        }
      ]
    },
    {
      "cell_type": "code",
      "source": [
        "# all of these are vechiles similar to car,  so it did give correct predictions"
      ],
      "metadata": {
        "id": "14HmlSt9vcvC"
      },
      "execution_count": 15,
      "outputs": []
    },
    {
      "cell_type": "markdown",
      "source": [
        "#### for dog\n",
        "\n"
      ],
      "metadata": {
        "id": "r-heKw-gvqkb"
      }
    },
    {
      "cell_type": "code",
      "source": [
        "img_path=\"./images/dog.jpg\""
      ],
      "metadata": {
        "id": "Ev_qTug9vpNH"
      },
      "execution_count": 21,
      "outputs": []
    },
    {
      "cell_type": "code",
      "source": [
        "img = keras.utils.load_img(img_path, target_size=(224, 224))\n",
        "x = keras.utils.img_to_array(img)\n",
        "x = np.expand_dims(x, axis=0)\n",
        "x = preprocess_input(x)"
      ],
      "metadata": {
        "id": "1G9zRz_lvv5j"
      },
      "execution_count": 22,
      "outputs": []
    },
    {
      "cell_type": "code",
      "source": [
        "predictions= model.predict(x)\n",
        "print(\"Predcited\",decode_predictions(predictions, top=3)[0])"
      ],
      "metadata": {
        "colab": {
          "base_uri": "https://localhost:8080/"
        },
        "id": "79lkpm4iv0NT",
        "outputId": "0fead6f0-52bf-48dc-e81d-36ecdba3c475"
      },
      "execution_count": 23,
      "outputs": [
        {
          "output_type": "stream",
          "name": "stdout",
          "text": [
            "\u001b[1m1/1\u001b[0m \u001b[32m━━━━━━━━━━━━━━━━━━━━\u001b[0m\u001b[37m\u001b[0m \u001b[1m0s\u001b[0m 479ms/step\n",
            "Predcited [('n02100583', 'vizsla', np.float32(0.57762206)), ('n02099849', 'Chesapeake_Bay_retriever', np.float32(0.108812936)), ('n02108422', 'bull_mastiff', np.float32(0.08153584))]\n"
          ]
        }
      ]
    },
    {
      "cell_type": "code",
      "source": [
        "## also gave correct predictiosn,all these answers are a breed of dog"
      ],
      "metadata": {
        "id": "MRHHh9zbv2xF"
      },
      "execution_count": 24,
      "outputs": []
    },
    {
      "cell_type": "markdown",
      "source": [
        "### for cat"
      ],
      "metadata": {
        "id": "kqnAu3DzwH_v"
      }
    },
    {
      "cell_type": "code",
      "source": [
        "img_path=\"./images/cat.jpg\""
      ],
      "metadata": {
        "id": "5THYbEkFwGKc"
      },
      "execution_count": 27,
      "outputs": []
    },
    {
      "cell_type": "code",
      "source": [
        "img = keras.utils.load_img(img_path, target_size=(224, 224))\n",
        "x = keras.utils.img_to_array(img)\n",
        "x = np.expand_dims(x, axis=0)\n",
        "x = preprocess_input(x)"
      ],
      "metadata": {
        "id": "QQNfdcU6wL4E"
      },
      "execution_count": 28,
      "outputs": []
    },
    {
      "cell_type": "code",
      "source": [
        "predictions= model.predict(x)\n",
        "print(\"Predcited\",decode_predictions(predictions, top=3)[0])"
      ],
      "metadata": {
        "colab": {
          "base_uri": "https://localhost:8080/"
        },
        "id": "ZKC4TqYLwMuB",
        "outputId": "36614d85-de41-4416-c909-425856b8144c"
      },
      "execution_count": 29,
      "outputs": [
        {
          "output_type": "stream",
          "name": "stdout",
          "text": [
            "\u001b[1m1/1\u001b[0m \u001b[32m━━━━━━━━━━━━━━━━━━━━\u001b[0m\u001b[37m\u001b[0m \u001b[1m0s\u001b[0m 457ms/step\n",
            "Predcited [('n02124075', 'Egyptian_cat', np.float32(0.80659664)), ('n02123597', 'Siamese_cat', np.float32(0.093909)), ('n02123045', 'tabby', np.float32(0.030717738))]\n"
          ]
        }
      ]
    },
    {
      "cell_type": "code",
      "source": [
        "#also correct"
      ],
      "metadata": {
        "id": "irHnba7wwP2d"
      },
      "execution_count": 30,
      "outputs": []
    },
    {
      "cell_type": "code",
      "source": [
        "#this is how we can simplify use pretrained models in cnn."
      ],
      "metadata": {
        "id": "ewyXwF6QwaU4"
      },
      "execution_count": null,
      "outputs": []
    },
    {
      "cell_type": "code",
      "source": [
        "import shutil\n",
        "from google.colab import files\n",
        "\n",
        "# Step 1: Zip the folder\n",
        "shutil.make_archive('/content/images', 'zip', '/content/images')\n",
        "\n",
        "# Step 2: Download it\n",
        "files.download('/content/images.zip')\n"
      ],
      "metadata": {
        "id": "9XHVPfe3w7cR",
        "outputId": "5907196c-5905-428d-ca9f-a564ba656cf1",
        "colab": {
          "base_uri": "https://localhost:8080/",
          "height": 17
        }
      },
      "execution_count": 31,
      "outputs": [
        {
          "output_type": "display_data",
          "data": {
            "text/plain": [
              "<IPython.core.display.Javascript object>"
            ],
            "application/javascript": [
              "\n",
              "    async function download(id, filename, size) {\n",
              "      if (!google.colab.kernel.accessAllowed) {\n",
              "        return;\n",
              "      }\n",
              "      const div = document.createElement('div');\n",
              "      const label = document.createElement('label');\n",
              "      label.textContent = `Downloading \"${filename}\": `;\n",
              "      div.appendChild(label);\n",
              "      const progress = document.createElement('progress');\n",
              "      progress.max = size;\n",
              "      div.appendChild(progress);\n",
              "      document.body.appendChild(div);\n",
              "\n",
              "      const buffers = [];\n",
              "      let downloaded = 0;\n",
              "\n",
              "      const channel = await google.colab.kernel.comms.open(id);\n",
              "      // Send a message to notify the kernel that we're ready.\n",
              "      channel.send({})\n",
              "\n",
              "      for await (const message of channel.messages) {\n",
              "        // Send a message to notify the kernel that we're ready.\n",
              "        channel.send({})\n",
              "        if (message.buffers) {\n",
              "          for (const buffer of message.buffers) {\n",
              "            buffers.push(buffer);\n",
              "            downloaded += buffer.byteLength;\n",
              "            progress.value = downloaded;\n",
              "          }\n",
              "        }\n",
              "      }\n",
              "      const blob = new Blob(buffers, {type: 'application/binary'});\n",
              "      const a = document.createElement('a');\n",
              "      a.href = window.URL.createObjectURL(blob);\n",
              "      a.download = filename;\n",
              "      div.appendChild(a);\n",
              "      a.click();\n",
              "      div.remove();\n",
              "    }\n",
              "  "
            ]
          },
          "metadata": {}
        },
        {
          "output_type": "display_data",
          "data": {
            "text/plain": [
              "<IPython.core.display.Javascript object>"
            ],
            "application/javascript": [
              "download(\"download_0dbb41d3-ee4c-4d80-8a89-3ec5123cbf5c\", \"images.zip\", 1017273)"
            ]
          },
          "metadata": {}
        }
      ]
    },
    {
      "cell_type": "code",
      "source": [],
      "metadata": {
        "id": "dmyojZ2Uw7wB"
      },
      "execution_count": null,
      "outputs": []
    }
  ]
}